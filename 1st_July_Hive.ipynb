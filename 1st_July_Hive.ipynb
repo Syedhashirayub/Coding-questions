{
 "cells": [
  {
   "cell_type": "markdown",
   "id": "bcf8ecaf",
   "metadata": {},
   "source": [
    "# 1.  Write a Python program that uses the HiveQL language to create a table named \"Employees\" with columns for \"id,\" \"name,\" and \"salary.\""
   ]
  },
  {
   "cell_type": "code",
   "execution_count": null,
   "id": "384a93f4",
   "metadata": {},
   "outputs": [],
   "source": [
    "from pyhive import hive\n",
    "\n",
    "# Connect to Hive\n",
    "connection = hive.Connection(host='localhost', port=10000, username='your_username')\n",
    "cursor = connection.cursor()\n",
    "\n",
    "# Create Employees table\n",
    "query = \"\"\"\n",
    "    CREATE TABLE Employees (\n",
    "        id INT,\n",
    "        name STRING,\n",
    "        salary FLOAT\n",
    "    )\n",
    "\"\"\"\n",
    "cursor.execute(query)\n",
    "\n",
    "# Close the connection\n",
    "cursor.close()\n",
    "connection.close()\n"
   ]
  },
  {
   "cell_type": "markdown",
   "id": "32e1b582",
   "metadata": {},
   "source": [
    "# 2. Create a Python program that retrieves records from a Hive table named \"Customers\" where the age is greater than 30."
   ]
  },
  {
   "cell_type": "code",
   "execution_count": null,
   "id": "b2c7de36",
   "metadata": {},
   "outputs": [],
   "source": [
    "from pyhive import hive\n",
    "\n",
    "# Connect to Hive\n",
    "connection = hive.Connection(host='localhost', port=10000, username='your_username')\n",
    "cursor = connection.cursor()\n",
    "\n",
    "# Execute query to retrieve records\n",
    "query = \"\"\"\n",
    "    SELECT * FROM Customers WHERE age > 30\n",
    "\"\"\"\n",
    "cursor.execute(query)\n",
    "\n",
    "# Fetch and print the results\n",
    "results = cursor.fetchall()\n",
    "for row in results:\n",
    "    print(row)\n",
    "\n",
    "# Close the connection\n",
    "cursor.close()\n",
    "connection.close()\n"
   ]
  },
  {
   "cell_type": "markdown",
   "id": "41df0207",
   "metadata": {},
   "source": [
    "# 3. Write a Python script that sorts records in descending order based on the \"timestamp\" column in a Hive table named \"Logs.\""
   ]
  },
  {
   "cell_type": "code",
   "execution_count": null,
   "id": "354b2b89",
   "metadata": {},
   "outputs": [],
   "source": [
    "from pyhive import hive\n",
    "\n",
    "# Connect to Hive\n",
    "connection = hive.Connection(host='localhost', port=10000, username='your_username')\n",
    "cursor = connection.cursor()\n",
    "\n",
    "# Execute query to retrieve and sort records\n",
    "query = \"\"\"\n",
    "    SELECT * FROM Logs ORDER BY timestamp DESC\n",
    "\"\"\"\n",
    "cursor.execute(query)\n",
    "\n",
    "# Fetch and print the sorted results\n",
    "results = cursor.fetchall()\n",
    "for row in results:\n",
    "    print(row)\n",
    "\n",
    "# Close the connection\n",
    "cursor.close()\n",
    "connection.close()\n"
   ]
  },
  {
   "cell_type": "markdown",
   "id": "87120654",
   "metadata": {},
   "source": [
    "# 4. Write a Python program that connects to a Hive server using PyHive library and retrieves all records from a table named \"Products\"."
   ]
  },
  {
   "cell_type": "code",
   "execution_count": null,
   "id": "66756f0c",
   "metadata": {},
   "outputs": [],
   "source": [
    "from pyhive import hive\n",
    "\n",
    "# Connect to Hive\n",
    "connection = hive.Connection(host='localhost', port=10000, username='your_username')\n",
    "cursor = connection.cursor()\n",
    "\n",
    "# Execute query to retrieve all records\n",
    "query = \"\"\"\n",
    "    SELECT * FROM Products\n",
    "\"\"\"\n",
    "cursor.execute(query)\n",
    "\n",
    "# Fetch and print the results\n",
    "results = cursor.fetchall()\n",
    "for row in results:\n",
    "    print(row)\n",
    "\n",
    "# Close the connection\n",
    "cursor.close()\n",
    "connection.close()\n"
   ]
  },
  {
   "cell_type": "markdown",
   "id": "726d651e",
   "metadata": {},
   "source": [
    "# 5. Write a Python script that calculates the average salary of employees from a Hive table named \"Employees\"."
   ]
  },
  {
   "cell_type": "code",
   "execution_count": null,
   "id": "7c2d7d7b",
   "metadata": {},
   "outputs": [],
   "source": [
    "from pyhive import hive\n",
    "\n",
    "# Connect to Hive\n",
    "connection = hive.Connection(host='localhost', port=10000, username='your_username')\n",
    "cursor = connection.cursor()\n",
    "\n",
    "# Execute query to calculate average salary\n",
    "query = \"\"\"\n",
    "    SELECT AVG(salary) FROM Employees\n",
    "\"\"\"\n",
    "cursor.execute(query)\n",
    "\n",
    "# Fetch and print the average salary\n",
    "average_salary = cursor.fetchone()[0]\n",
    "print(\"Average Salary: \", average_salary)\n",
    "\n",
    "# Close the connection\n",
    "cursor.close()\n",
    "connection.close()\n"
   ]
  },
  {
   "cell_type": "markdown",
   "id": "4eedf38a",
   "metadata": {},
   "source": [
    "# 6. Implement a Python program that uses Hive partitioning to create a partitioned table named \"Sales_Data\" based on the \"year\" and \"month\" columns.\n"
   ]
  },
  {
   "cell_type": "code",
   "execution_count": null,
   "id": "74e02c0a",
   "metadata": {},
   "outputs": [],
   "source": [
    "from pyhive import hive\n",
    "\n",
    "# Connect to Hive\n",
    "connection = hive.Connection(host='localhost', port=10000, username='your_username')\n",
    "cursor = connection.cursor()\n",
    "\n",
    "# Create partitioned Sales_Data table\n",
    "query = \"\"\"\n",
    "    CREATE TABLE Sales_Data (\n",
    "        id INT,\n",
    "        product STRING,\n",
    "        amount FLOAT\n",
    "    )\n",
    "    PARTITIONED BY (year INT, month INT)\n",
    "\"\"\"\n",
    "cursor.execute(query)\n",
    "\n",
    "# Close the connection\n",
    "cursor.close()\n",
    "connection.close()\n"
   ]
  },
  {
   "cell_type": "markdown",
   "id": "0dc851e7",
   "metadata": {},
   "source": [
    "# 7. Develop a Python script that adds a new column named \"email\" of type string to an existing Hive table named \"Employees."
   ]
  },
  {
   "cell_type": "code",
   "execution_count": null,
   "id": "8ff98dc4",
   "metadata": {},
   "outputs": [],
   "source": [
    "from pyhive import hive\n",
    "\n",
    "# Connect to Hive\n",
    "connection = hive.Connection(host='localhost', port=10000, username='your_username')\n",
    "cursor = connection.cursor()\n",
    "\n",
    "# Alter table to add email column\n",
    "query = \"\"\"\n",
    "    ALTER TABLE Employees\n",
    "    ADD COLUMNS (email STRING)\n",
    "\"\"\"\n",
    "cursor.execute(query)\n",
    "\n",
    "# Close the connection\n",
    "cursor.close()\n",
    "connection.close()\n"
   ]
  },
  {
   "cell_type": "markdown",
   "id": "5c6ee15b",
   "metadata": {},
   "source": [
    "# 8. Create a Python program that performs an inner join between two Hive tables, \"Orders\" and \"Customers,\" based on a common column."
   ]
  },
  {
   "cell_type": "code",
   "execution_count": null,
   "id": "9af40e4e",
   "metadata": {},
   "outputs": [],
   "source": [
    "from pyhive import hive\n",
    "\n",
    "# Connect to Hive\n",
    "connection = hive.Connection(host='localhost', port=10000, username='your_username')\n",
    "cursor = connection.cursor()\n",
    "\n",
    "# Execute inner join query\n",
    "query = \"\"\"\n",
    "    SELECT *\n",
    "    FROM Orders\n",
    "    INNER JOIN Customers\n",
    "    ON Orders.customer_id = Customers.customer_id\n",
    "\"\"\"\n",
    "cursor.execute(query)\n",
    "\n",
    "# Fetch and print the results\n",
    "results = cursor.fetchall()\n",
    "for row in results:\n",
    "    print(row)\n",
    "\n",
    "# Close the connection\n",
    "cursor.close()\n",
    "connection.close()\n"
   ]
  },
  {
   "cell_type": "markdown",
   "id": "4bc5a917",
   "metadata": {},
   "source": [
    "# 9. Implement a Python program that uses the Hive SerDe library to process JSON data stored in a Hive table named \"User_Activity_Logs.\""
   ]
  },
  {
   "cell_type": "code",
   "execution_count": null,
   "id": "795301f5",
   "metadata": {},
   "outputs": [],
   "source": [
    "from pyhive import hive\n",
    "\n",
    "# Connect to Hive\n",
    "connection = hive.Connection(host='localhost', port=10000, username='your_username')\n",
    "cursor = connection.cursor()\n",
    "\n",
    "# Create User_Activity_Logs table with JSON SerDe\n",
    "query = \"\"\"\n",
    "    CREATE TABLE User_Activity_Logs (\n",
    "        user_id INT,\n",
    "        activity STRING,\n",
    "        timestamp STRING\n",
    "    )\n",
    "    ROW FORMAT SERDE 'org.apache.hive.hcatalog.data.JsonSerDe'\n",
    "    STORED AS TEXTFILE\n",
    "\"\"\"\n",
    "cursor.execute(query)\n",
    "\n",
    "# Select and process JSON data from the table\n",
    "query = \"\"\"\n",
    "    SELECT *\n",
    "    FROM User_Activity_Logs\n",
    "\"\"\"\n",
    "cursor.execute(query)\n",
    "\n",
    "# Fetch and print the results\n",
    "results = cursor.fetchall()\n",
    "for row in results:\n",
    "    print(row)\n",
    "\n",
    "# Close the connection\n",
    "cursor.close()\n",
    "connection.close()\n"
   ]
  },
  {
   "cell_type": "code",
   "execution_count": null,
   "id": "dcf56648",
   "metadata": {},
   "outputs": [],
   "source": []
  },
  {
   "cell_type": "code",
   "execution_count": null,
   "id": "e87cda04",
   "metadata": {},
   "outputs": [],
   "source": []
  },
  {
   "cell_type": "code",
   "execution_count": null,
   "id": "9a3dd3ad",
   "metadata": {},
   "outputs": [],
   "source": []
  },
  {
   "cell_type": "code",
   "execution_count": null,
   "id": "586f3e24",
   "metadata": {},
   "outputs": [],
   "source": []
  },
  {
   "cell_type": "code",
   "execution_count": null,
   "id": "1c5cf1fa",
   "metadata": {},
   "outputs": [],
   "source": []
  },
  {
   "cell_type": "code",
   "execution_count": null,
   "id": "bb263f7c",
   "metadata": {},
   "outputs": [],
   "source": []
  },
  {
   "cell_type": "code",
   "execution_count": null,
   "id": "f73ba98f",
   "metadata": {},
   "outputs": [],
   "source": []
  },
  {
   "cell_type": "code",
   "execution_count": null,
   "id": "97dede7a",
   "metadata": {},
   "outputs": [],
   "source": []
  }
 ],
 "metadata": {
  "kernelspec": {
   "display_name": "Python 3 (ipykernel)",
   "language": "python",
   "name": "python3"
  },
  "language_info": {
   "codemirror_mode": {
    "name": "ipython",
    "version": 3
   },
   "file_extension": ".py",
   "mimetype": "text/x-python",
   "name": "python",
   "nbconvert_exporter": "python",
   "pygments_lexer": "ipython3",
   "version": "3.10.9"
  }
 },
 "nbformat": 4,
 "nbformat_minor": 5
}
