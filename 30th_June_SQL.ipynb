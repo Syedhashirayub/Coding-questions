{
 "cells": [
  {
   "cell_type": "markdown",
   "id": "e0027c31",
   "metadata": {},
   "source": [
    "# 1. Write an SQL query to retrieve the names and email addresses of all employees from a table named \"Employees\"."
   ]
  },
  {
   "cell_type": "code",
   "execution_count": null,
   "id": "5660fc02",
   "metadata": {},
   "outputs": [],
   "source": [
    "SELECT name, email_address\n",
    "FROM Employees;"
   ]
  },
  {
   "cell_type": "markdown",
   "id": "593eb96b",
   "metadata": {},
   "source": [
    "# 2. Write an SQL query to filter records from a table named \"Customers\" where the \"City\" column is 'New York'."
   ]
  },
  {
   "cell_type": "code",
   "execution_count": null,
   "id": "b5d883e6",
   "metadata": {},
   "outputs": [],
   "source": [
    "SELECT *\n",
    "FROM Customers\n",
    "WHERE City = 'New York';"
   ]
  },
  {
   "cell_type": "markdown",
   "id": "c3586df7",
   "metadata": {},
   "source": [
    "# 3. Write an SQL query to sort records in descending order based on the \"DateOfBirth\" column in a table named \"Users\"."
   ]
  },
  {
   "cell_type": "code",
   "execution_count": null,
   "id": "3d704f6f",
   "metadata": {},
   "outputs": [],
   "source": [
    "SELECT *\n",
    "FROM Users\n",
    "ORDER BY DateOfBirth DESC;"
   ]
  },
  {
   "cell_type": "markdown",
   "id": "981e40c4",
   "metadata": {},
   "source": [
    "# 4. Write an SQL query to sort records in ascending order based on the \"RegistrationDate\" column in a table named \"Users\"."
   ]
  },
  {
   "cell_type": "code",
   "execution_count": null,
   "id": "1fdb44b5",
   "metadata": {},
   "outputs": [],
   "source": [
    "SELECT *\n",
    "FROM Users\n",
    "ORDER BY RegistrationDate ASC;"
   ]
  },
  {
   "cell_type": "markdown",
   "id": "8d466bdc",
   "metadata": {},
   "source": [
    "# 5. Write an SQL query to find the employee with the highest salary from a table named \"Employees\" and display their name, position, and salary."
   ]
  },
  {
   "cell_type": "code",
   "execution_count": null,
   "id": "91be84b7",
   "metadata": {},
   "outputs": [],
   "source": [
    "SELECT name, position, salary\n",
    "FROM Employees\n",
    "WHERE salary = (SELECT MAX(salary) FROM Employees);"
   ]
  },
  {
   "cell_type": "markdown",
   "id": "3e622ac5",
   "metadata": {},
   "source": [
    "# 6. Write an SQL query to retrieve records from a table named \"Customers\" where the \"Phone\" column matches the pattern '+1-XXX-XXX-XXXX'."
   ]
  },
  {
   "cell_type": "code",
   "execution_count": null,
   "id": "f1a58e32",
   "metadata": {},
   "outputs": [],
   "source": [
    "SELECT *\n",
    "FROM Customers\n",
    "WHERE Phone LIKE '+1-XXX-XXX-XXXX';"
   ]
  },
  {
   "cell_type": "markdown",
   "id": "79d8e49a",
   "metadata": {},
   "source": [
    "# 7. Write an SQL query to retrieve the top 5 customers with the highest total purchase amount from a table named \"Orders\" and display their names and total purchase amounts."
   ]
  },
  {
   "cell_type": "code",
   "execution_count": null,
   "id": "98832dbe",
   "metadata": {},
   "outputs": [],
   "source": [
    "SELECT names, total_amount\n",
    "FROM Customers\n",
    "order by total_amount DESC\n",
    "limit 5;"
   ]
  },
  {
   "cell_type": "markdown",
   "id": "985bf43d",
   "metadata": {},
   "source": [
    "# 8. Write an SQL query to calculate the percentage of sales for each product category in a table named \"Sales\" and display the category name, total sales amount, and the percentage of total sales"
   ]
  },
  {
   "cell_type": "code",
   "execution_count": null,
   "id": "d5acead5",
   "metadata": {},
   "outputs": [],
   "source": [
    "SELECT CategoryName, SUM(SalesAmount) AS TotalSalesAmount,\n",
    "       (SUM(SalesAmount) / (SELECT SUM(SalesAmount) FROM Sales)) * 100 AS PercentageOfTotalSales\n",
    "FROM Sales\n",
    "GROUP BY CategoryName;"
   ]
  },
  {
   "cell_type": "markdown",
   "id": "88e70e83",
   "metadata": {},
   "source": [
    "# 9. Write an SQL query to find the customers who have made the highest total purchases across all years from a table named \"Orders\" and display their names, email addresses, and the total purchase amount."
   ]
  },
  {
   "cell_type": "code",
   "execution_count": null,
   "id": "38c92ce5",
   "metadata": {},
   "outputs": [],
   "source": [
    "SELECT c.CustomerName, c.Email, SUM(o.PurchaseAmount) AS TotalPurchaseAmount\n",
    "FROM Customers c\n",
    "JOIN Orders o ON c.CustomerID = o.CustomerID\n",
    "GROUP BY c.CustomerName, c.Email\n",
    "HAVING SUM(o.PurchaseAmount) = (\n",
    "    SELECT MAX(TotalPurchaseAmount)\n",
    "    FROM (\n",
    "        SELECT SUM(PurchaseAmount) AS TotalPurchaseAmount\n",
    "        FROM Orders\n",
    "        GROUP BY CustomerID\n",
    "    ) AS TotalPurchases\n",
    ")"
   ]
  },
  {
   "cell_type": "code",
   "execution_count": null,
   "id": "bbee4021",
   "metadata": {},
   "outputs": [],
   "source": []
  },
  {
   "cell_type": "code",
   "execution_count": null,
   "id": "e3edb5a9",
   "metadata": {},
   "outputs": [],
   "source": []
  },
  {
   "cell_type": "code",
   "execution_count": null,
   "id": "afeeeb62",
   "metadata": {},
   "outputs": [],
   "source": []
  },
  {
   "cell_type": "code",
   "execution_count": null,
   "id": "a5c71351",
   "metadata": {},
   "outputs": [],
   "source": []
  },
  {
   "cell_type": "code",
   "execution_count": null,
   "id": "ec05d39e",
   "metadata": {},
   "outputs": [],
   "source": []
  },
  {
   "cell_type": "code",
   "execution_count": null,
   "id": "c362dc1a",
   "metadata": {},
   "outputs": [],
   "source": []
  },
  {
   "cell_type": "code",
   "execution_count": null,
   "id": "934773ba",
   "metadata": {},
   "outputs": [],
   "source": []
  },
  {
   "cell_type": "code",
   "execution_count": null,
   "id": "20e97081",
   "metadata": {},
   "outputs": [],
   "source": []
  },
  {
   "cell_type": "code",
   "execution_count": null,
   "id": "1ff80c98",
   "metadata": {},
   "outputs": [],
   "source": []
  },
  {
   "cell_type": "code",
   "execution_count": null,
   "id": "be942514",
   "metadata": {},
   "outputs": [],
   "source": []
  },
  {
   "cell_type": "code",
   "execution_count": null,
   "id": "a8ccad36",
   "metadata": {},
   "outputs": [],
   "source": []
  },
  {
   "cell_type": "code",
   "execution_count": null,
   "id": "6226b81a",
   "metadata": {},
   "outputs": [],
   "source": []
  },
  {
   "cell_type": "code",
   "execution_count": null,
   "id": "e7e3ce59",
   "metadata": {},
   "outputs": [],
   "source": []
  }
 ],
 "metadata": {
  "kernelspec": {
   "display_name": "Python 3 (ipykernel)",
   "language": "python",
   "name": "python3"
  },
  "language_info": {
   "codemirror_mode": {
    "name": "ipython",
    "version": 3
   },
   "file_extension": ".py",
   "mimetype": "text/x-python",
   "name": "python",
   "nbconvert_exporter": "python",
   "pygments_lexer": "ipython3",
   "version": "3.10.9"
  }
 },
 "nbformat": 4,
 "nbformat_minor": 5
}
