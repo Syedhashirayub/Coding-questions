{
 "cells": [
  {
   "cell_type": "markdown",
   "id": "5a563a94",
   "metadata": {},
   "source": [
    "# 1. Write an SQL query to retrieve the names and email addresses of all employees from a table named \"Employees\"."
   ]
  },
  {
   "cell_type": "code",
   "execution_count": null,
   "id": "433066b5",
   "metadata": {},
   "outputs": [],
   "source": [
    "SELECT name, email_address\n",
    "FROM Employees;"
   ]
  },
  {
   "cell_type": "markdown",
   "id": "4ae97b57",
   "metadata": {},
   "source": [
    "# 2. Write an SQL query to filter records from a table named \"Customers\" where the \"City\" column is 'New York'."
   ]
  },
  {
   "cell_type": "code",
   "execution_count": null,
   "id": "1de3111c",
   "metadata": {},
   "outputs": [],
   "source": [
    "SELECT *\n",
    "FROM Customers\n",
    "WHERE City = 'New York';"
   ]
  },
  {
   "cell_type": "markdown",
   "id": "a3416e3f",
   "metadata": {},
   "source": [
    "# 3. Write an SQL query to sort records in descending order based on the \"DateOfBirth\" column in a table named \"Users\"."
   ]
  },
  {
   "cell_type": "code",
   "execution_count": null,
   "id": "38a0c317",
   "metadata": {},
   "outputs": [],
   "source": [
    "SELECT *\n",
    "FROM Users\n",
    "ORDER BY DateOfBirth DESC;"
   ]
  },
  {
   "cell_type": "markdown",
   "id": "8400105a",
   "metadata": {},
   "source": [
    "# 4. Write an SQL query to sort records in ascending order based on the \"RegistrationDate\" column in a table named \"Users\"."
   ]
  },
  {
   "cell_type": "code",
   "execution_count": null,
   "id": "640c3107",
   "metadata": {},
   "outputs": [],
   "source": [
    "SELECT *\n",
    "FROM Users\n",
    "ORDER BY RegistrationDate ASC;"
   ]
  },
  {
   "cell_type": "markdown",
   "id": "4b4ac368",
   "metadata": {},
   "source": [
    "# 5. Write an SQL query to find the employee with the highest salary from a table named \"Employees\" and display their name, position, and salary."
   ]
  },
  {
   "cell_type": "code",
   "execution_count": null,
   "id": "173da7e9",
   "metadata": {},
   "outputs": [],
   "source": [
    "SELECT name, position, salary\n",
    "FROM Employees\n",
    "WHERE salary = (SELECT MAX(salary) FROM Employees);"
   ]
  },
  {
   "cell_type": "markdown",
   "id": "b6dd5ad9",
   "metadata": {},
   "source": [
    "# 6. Write an SQL query to retrieve records from a table named \"Customers\" where the \"Phone\" column matches the pattern '+1-XXX-XXX-XXXX'."
   ]
  },
  {
   "cell_type": "code",
   "execution_count": null,
   "id": "ca8473a2",
   "metadata": {},
   "outputs": [],
   "source": [
    "SELECT *\n",
    "FROM Customers\n",
    "WHERE Phone LIKE '+1-XXX-XXX-XXXX';"
   ]
  },
  {
   "cell_type": "markdown",
   "id": "eca6ea18",
   "metadata": {},
   "source": [
    "# 7. Write an SQL query to retrieve the top 5 customers with the highest total purchase amount from a table named \"Orders\" and display their names and total purchase amounts."
   ]
  },
  {
   "cell_type": "code",
   "execution_count": null,
   "id": "851bfbb2",
   "metadata": {},
   "outputs": [],
   "source": [
    "SELECT names, total_amount\n",
    "FROM Customers\n",
    "order by total_amount DESC\n",
    "limit 5;"
   ]
  },
  {
   "cell_type": "markdown",
   "id": "21fd9592",
   "metadata": {},
   "source": [
    "# 8. Write an SQL query to calculate the percentage of sales for each product category in a table named \"Sales\" and display the category name, total sales amount, and the percentage of total sales"
   ]
  },
  {
   "cell_type": "code",
   "execution_count": null,
   "id": "f22c1b98",
   "metadata": {},
   "outputs": [],
   "source": [
    "SELECT CategoryName, SUM(SalesAmount) AS TotalSalesAmount,\n",
    "       (SUM(SalesAmount) / (SELECT SUM(SalesAmount) FROM Sales)) * 100 AS PercentageOfTotalSales\n",
    "FROM Sales\n",
    "GROUP BY CategoryName;"
   ]
  },
  {
   "cell_type": "markdown",
   "id": "035e1478",
   "metadata": {},
   "source": [
    "# 9. Write an SQL query to find the customers who have made the highest total purchases across all years from a table named \"Orders\" and display their names, email addresses, and the total purchase amount."
   ]
  },
  {
   "cell_type": "code",
   "execution_count": null,
   "id": "53b175fc",
   "metadata": {},
   "outputs": [],
   "source": [
    "SELECT names, email, SUM(purchase_amount)\n",
    "FROM Orders\n",
    "order by total_amount DESC\n",
    "limit 5;"
   ]
  },
  {
   "cell_type": "code",
   "execution_count": null,
   "id": "e8353092",
   "metadata": {},
   "outputs": [],
   "source": []
  },
  {
   "cell_type": "code",
   "execution_count": null,
   "id": "51a6c299",
   "metadata": {},
   "outputs": [],
   "source": []
  },
  {
   "cell_type": "code",
   "execution_count": null,
   "id": "090a53f7",
   "metadata": {},
   "outputs": [],
   "source": []
  },
  {
   "cell_type": "code",
   "execution_count": null,
   "id": "32442cf1",
   "metadata": {},
   "outputs": [],
   "source": []
  },
  {
   "cell_type": "code",
   "execution_count": null,
   "id": "0a2564ec",
   "metadata": {},
   "outputs": [],
   "source": []
  },
  {
   "cell_type": "code",
   "execution_count": null,
   "id": "4ae25747",
   "metadata": {},
   "outputs": [],
   "source": []
  },
  {
   "cell_type": "code",
   "execution_count": null,
   "id": "777a685d",
   "metadata": {},
   "outputs": [],
   "source": []
  },
  {
   "cell_type": "code",
   "execution_count": null,
   "id": "eed5dbc5",
   "metadata": {},
   "outputs": [],
   "source": []
  },
  {
   "cell_type": "code",
   "execution_count": null,
   "id": "2cca9d08",
   "metadata": {},
   "outputs": [],
   "source": []
  },
  {
   "cell_type": "code",
   "execution_count": null,
   "id": "b9d0ab71",
   "metadata": {},
   "outputs": [],
   "source": []
  },
  {
   "cell_type": "code",
   "execution_count": null,
   "id": "a92c35ca",
   "metadata": {},
   "outputs": [],
   "source": []
  },
  {
   "cell_type": "code",
   "execution_count": null,
   "id": "e9372633",
   "metadata": {},
   "outputs": [],
   "source": []
  },
  {
   "cell_type": "code",
   "execution_count": null,
   "id": "6de79faf",
   "metadata": {},
   "outputs": [],
   "source": []
  }
 ],
 "metadata": {
  "kernelspec": {
   "display_name": "Python 3 (ipykernel)",
   "language": "python",
   "name": "python3"
  },
  "language_info": {
   "codemirror_mode": {
    "name": "ipython",
    "version": 3
   },
   "file_extension": ".py",
   "mimetype": "text/x-python",
   "name": "python",
   "nbconvert_exporter": "python",
   "pygments_lexer": "ipython3",
   "version": "3.10.9"
  }
 },
 "nbformat": 4,
 "nbformat_minor": 5
}
